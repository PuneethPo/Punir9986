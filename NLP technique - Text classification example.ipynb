{
  "nbformat": 4,
  "nbformat_minor": 0,
  "metadata": {
    "colab": {
      "name": "Untitled171.ipynb",
      "provenance": []
    },
    "kernelspec": {
      "name": "python3",
      "display_name": "Python 3"
    },
    "language_info": {
      "name": "python"
    }
  },
  "cells": [
    {
      "cell_type": "code",
      "metadata": {
        "colab": {
          "base_uri": "https://localhost:8080/"
        },
        "id": "v_lv_bwvnHpe",
        "outputId": "a76f1781-49ef-4413-f573-164545c34cfa"
      },
      "source": [
        "import numpy as np\n",
        "import pandas as pd\n",
        "from sklearn.neighbors import KNeighborsClassifier\n",
        "import nltk \n",
        "nltk.download('punkt')\n",
        "from textblob import TextBlob\n",
        "from sklearn.feature_extraction.text import CountVectorizer"
      ],
      "execution_count": 2,
      "outputs": [
        {
          "output_type": "stream",
          "text": [
            "[nltk_data] Downloading package punkt to /root/nltk_data...\n",
            "[nltk_data]   Unzipping tokenizers/punkt.zip.\n"
          ],
          "name": "stdout"
        }
      ]
    },
    {
      "cell_type": "markdown",
      "metadata": {
        "id": "dlRIgS35qSKY"
      },
      "source": [
        "#Simple text classification using NLP technique"
      ]
    },
    {
      "cell_type": "markdown",
      "metadata": {
        "id": "SgOY4UIoqfSM"
      },
      "source": [
        "# Loading the necessary libraries\n",
        "\n",
        "\n",
        "\n",
        "\n"
      ]
    },
    {
      "cell_type": "code",
      "metadata": {
        "id": "SHGx7hOyqPFn"
      },
      "source": [
        "import numpy as np\n",
        "import pandas as pd\n",
        "from sklearn.neighbors import KNeighborsClassifier\n",
        "import nltk \n",
        "nltk.download('punkt')\n",
        "from textblob import TextBlob\n",
        "from sklearn.feature_extraction.text import CountVectorizer"
      ],
      "execution_count": null,
      "outputs": []
    },
    {
      "cell_type": "markdown",
      "metadata": {
        "id": "sNBtox1ZrBJQ"
      },
      "source": [
        "# CountVectorizer is used to create document term matrix\n",
        "# I have prepared sample train and labels respectively"
      ]
    },
    {
      "cell_type": "code",
      "metadata": {
        "id": "vCtFnLASnSGB"
      },
      "source": [
        "toNumeric = CountVectorizer()\n",
        "train = ['I am a good person', 'She is also a nice person','But Mithun is very very bad']\n",
        "y = [1,1,0]"
      ],
      "execution_count": 4,
      "outputs": []
    },
    {
      "cell_type": "markdown",
      "metadata": {
        "id": "1MsNkmxqrshB"
      },
      "source": [
        "# Prepared CSR matrix"
      ]
    },
    {
      "cell_type": "code",
      "metadata": {
        "id": "tt4u8DjBnSHh"
      },
      "source": [
        "train_dtm = toNumeric.fit_transform(train)"
      ],
      "execution_count": 24,
      "outputs": []
    },
    {
      "cell_type": "markdown",
      "metadata": {
        "id": "DfVonLvHr604"
      },
      "source": [
        "# Features in the train data"
      ]
    },
    {
      "cell_type": "code",
      "metadata": {
        "colab": {
          "base_uri": "https://localhost:8080/"
        },
        "id": "7J2rJqNtnSLo",
        "outputId": "1ee778ff-30b8-4f27-c2dc-29b2d33bd7c1"
      },
      "source": [
        "toNumeric.get_feature_names()"
      ],
      "execution_count": 26,
      "outputs": [
        {
          "output_type": "execute_result",
          "data": {
            "text/plain": [
              "['also',\n",
              " 'am',\n",
              " 'bad',\n",
              " 'but',\n",
              " 'good',\n",
              " 'is',\n",
              " 'mithun',\n",
              " 'nice',\n",
              " 'person',\n",
              " 'she',\n",
              " 'very']"
            ]
          },
          "metadata": {
            "tags": []
          },
          "execution_count": 26
        }
      ]
    },
    {
      "cell_type": "markdown",
      "metadata": {
        "id": "4eaw08eXsN-w"
      },
      "source": [
        "# Preparing document term matrix (Bag Of Words)"
      ]
    },
    {
      "cell_type": "code",
      "metadata": {
        "colab": {
          "base_uri": "https://localhost:8080/"
        },
        "id": "9Wo13A8YpCVG",
        "outputId": "d4963194-18d5-4bc7-9a10-4fdf5d9e1eb3"
      },
      "source": [
        "train_dtm.toarray()"
      ],
      "execution_count": 11,
      "outputs": [
        {
          "output_type": "execute_result",
          "data": {
            "text/plain": [
              "array([[0, 1, 0, 0, 1, 0, 0, 0, 1, 0, 0],\n",
              "       [1, 0, 0, 0, 0, 1, 0, 1, 1, 1, 0],\n",
              "       [0, 0, 1, 1, 0, 1, 1, 0, 0, 0, 2]])"
            ]
          },
          "metadata": {
            "tags": []
          },
          "execution_count": 11
        }
      ]
    },
    {
      "cell_type": "code",
      "metadata": {
        "colab": {
          "base_uri": "https://localhost:8080/",
          "height": 142
        },
        "id": "DAmSogNCpE7y",
        "outputId": "8376dfb7-0651-4707-d57d-af2a614ae6de"
      },
      "source": [
        "pd.DataFrame(train_dtm.toarray(),columns = toNumeric.get_feature_names())"
      ],
      "execution_count": 12,
      "outputs": [
        {
          "output_type": "execute_result",
          "data": {
            "text/html": [
              "<div>\n",
              "<style scoped>\n",
              "    .dataframe tbody tr th:only-of-type {\n",
              "        vertical-align: middle;\n",
              "    }\n",
              "\n",
              "    .dataframe tbody tr th {\n",
              "        vertical-align: top;\n",
              "    }\n",
              "\n",
              "    .dataframe thead th {\n",
              "        text-align: right;\n",
              "    }\n",
              "</style>\n",
              "<table border=\"1\" class=\"dataframe\">\n",
              "  <thead>\n",
              "    <tr style=\"text-align: right;\">\n",
              "      <th></th>\n",
              "      <th>also</th>\n",
              "      <th>am</th>\n",
              "      <th>bad</th>\n",
              "      <th>but</th>\n",
              "      <th>good</th>\n",
              "      <th>is</th>\n",
              "      <th>mithun</th>\n",
              "      <th>nice</th>\n",
              "      <th>person</th>\n",
              "      <th>she</th>\n",
              "      <th>very</th>\n",
              "    </tr>\n",
              "  </thead>\n",
              "  <tbody>\n",
              "    <tr>\n",
              "      <th>0</th>\n",
              "      <td>0</td>\n",
              "      <td>1</td>\n",
              "      <td>0</td>\n",
              "      <td>0</td>\n",
              "      <td>1</td>\n",
              "      <td>0</td>\n",
              "      <td>0</td>\n",
              "      <td>0</td>\n",
              "      <td>1</td>\n",
              "      <td>0</td>\n",
              "      <td>0</td>\n",
              "    </tr>\n",
              "    <tr>\n",
              "      <th>1</th>\n",
              "      <td>1</td>\n",
              "      <td>0</td>\n",
              "      <td>0</td>\n",
              "      <td>0</td>\n",
              "      <td>0</td>\n",
              "      <td>1</td>\n",
              "      <td>0</td>\n",
              "      <td>1</td>\n",
              "      <td>1</td>\n",
              "      <td>1</td>\n",
              "      <td>0</td>\n",
              "    </tr>\n",
              "    <tr>\n",
              "      <th>2</th>\n",
              "      <td>0</td>\n",
              "      <td>0</td>\n",
              "      <td>1</td>\n",
              "      <td>1</td>\n",
              "      <td>0</td>\n",
              "      <td>1</td>\n",
              "      <td>1</td>\n",
              "      <td>0</td>\n",
              "      <td>0</td>\n",
              "      <td>0</td>\n",
              "      <td>2</td>\n",
              "    </tr>\n",
              "  </tbody>\n",
              "</table>\n",
              "</div>"
            ],
            "text/plain": [
              "   also  am  bad  but  good  is  mithun  nice  person  she  very\n",
              "0     0   1    0    0     1   0       0     0       1    0     0\n",
              "1     1   0    0    0     0   1       0     1       1    1     0\n",
              "2     0   0    1    1     0   1       1     0       0    0     2"
            ]
          },
          "metadata": {
            "tags": []
          },
          "execution_count": 12
        }
      ]
    },
    {
      "cell_type": "markdown",
      "metadata": {
        "id": "J45z0wsWsc1N"
      },
      "source": [
        "# Text Classification using KNN"
      ]
    },
    {
      "cell_type": "code",
      "metadata": {
        "colab": {
          "base_uri": "https://localhost:8080/"
        },
        "id": "iRwyYBK_pWS6",
        "outputId": "1dd61e41-4a6f-43c0-d684-ddda0c53b60f"
      },
      "source": [
        "knn = KNeighborsClassifier(n_neighbors=1)\n",
        "knn.fit(train_dtm,y)"
      ],
      "execution_count": 17,
      "outputs": [
        {
          "output_type": "execute_result",
          "data": {
            "text/plain": [
              "KNeighborsClassifier(algorithm='auto', leaf_size=30, metric='minkowski',\n",
              "                     metric_params=None, n_jobs=None, n_neighbors=1, p=2,\n",
              "                     weights='uniform')"
            ]
          },
          "metadata": {
            "tags": []
          },
          "execution_count": 17
        }
      ]
    },
    {
      "cell_type": "markdown",
      "metadata": {
        "id": "w-R8qb5ZssP3"
      },
      "source": [
        "# KNN classification on Test data "
      ]
    },
    {
      "cell_type": "code",
      "metadata": {
        "id": "S8Q486wAplGj"
      },
      "source": [
        "sampleTest = ['Sherin is a very bad person']\n",
        "sampleTest_dtm = toNumeric.transform(sampleTest)"
      ],
      "execution_count": 21,
      "outputs": []
    },
    {
      "cell_type": "code",
      "metadata": {
        "colab": {
          "base_uri": "https://localhost:8080/"
        },
        "id": "lqc4PYMfp1rL",
        "outputId": "f5958b8e-2ba2-4f8e-d8d3-dd657b5938f3"
      },
      "source": [
        "sampleTest_dtm.toarray()"
      ],
      "execution_count": 22,
      "outputs": [
        {
          "output_type": "execute_result",
          "data": {
            "text/plain": [
              "array([[0, 0, 1, 0, 0, 1, 0, 0, 1, 0, 1]])"
            ]
          },
          "metadata": {
            "tags": []
          },
          "execution_count": 22
        }
      ]
    },
    {
      "cell_type": "code",
      "metadata": {
        "colab": {
          "base_uri": "https://localhost:8080/"
        },
        "id": "zQtwksL_p4NO",
        "outputId": "cb7273e3-1a58-4660-d004-5bda84e859f4"
      },
      "source": [
        "knn.predict(sampleTest_dtm)"
      ],
      "execution_count": 23,
      "outputs": [
        {
          "output_type": "execute_result",
          "data": {
            "text/plain": [
              "array([0])"
            ]
          },
          "metadata": {
            "tags": []
          },
          "execution_count": 23
        }
      ]
    },
    {
      "cell_type": "markdown",
      "metadata": {
        "id": "IlJu2-RaqNbS"
      },
      "source": [
        "# Conclusion - Here the test data is similar to last record of train data, hence model studied ones and 0s train and matched to classify the test data"
      ]
    },
    {
      "cell_type": "code",
      "metadata": {
        "id": "Y1aNQWiptGFn"
      },
      "source": [
        ""
      ],
      "execution_count": null,
      "outputs": []
    }
  ]
}